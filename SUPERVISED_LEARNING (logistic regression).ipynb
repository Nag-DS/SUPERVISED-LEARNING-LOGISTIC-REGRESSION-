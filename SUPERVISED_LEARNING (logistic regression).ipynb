{
 "cells": [
  {
   "cell_type": "markdown",
   "id": "b490fae2",
   "metadata": {},
   "source": [
    "<h1 style =\"color:red;\">SUPERVISED LEARNING (LOGISTIC REGRESSION) </h1>\n",
    "\n",
    "<h2 style =\"color:blue;\">Nagendrbabu A</h2>\n"
   ]
  },
  {
   "cell_type": "code",
   "execution_count": 2,
   "id": "0f77e678",
   "metadata": {},
   "outputs": [],
   "source": [
    "import pandas as pd\n",
    "import numpy as np\n",
    "import warnings \n",
    "warnings.filterwarnings(\"ignore\")\n"
   ]
  },
  {
   "cell_type": "code",
   "execution_count": 8,
   "id": "3988dbee",
   "metadata": {},
   "outputs": [],
   "source": [
    "liver_data=pd.read_csv(\"indian_liver_patient_dataset.csv\")"
   ]
  },
  {
   "cell_type": "code",
   "execution_count": 9,
   "id": "00f040c9",
   "metadata": {},
   "outputs": [
    {
     "data": {
      "text/html": [
       "<div>\n",
       "<style scoped>\n",
       "    .dataframe tbody tr th:only-of-type {\n",
       "        vertical-align: middle;\n",
       "    }\n",
       "\n",
       "    .dataframe tbody tr th {\n",
       "        vertical-align: top;\n",
       "    }\n",
       "\n",
       "    .dataframe thead th {\n",
       "        text-align: right;\n",
       "    }\n",
       "</style>\n",
       "<table border=\"1\" class=\"dataframe\">\n",
       "  <thead>\n",
       "    <tr style=\"text-align: right;\">\n",
       "      <th></th>\n",
       "      <th>Age</th>\n",
       "      <th>Gender</th>\n",
       "      <th>Total_Bilirubin</th>\n",
       "      <th>Direct_Bilirubin</th>\n",
       "      <th>Alkaline_Phosphotase</th>\n",
       "      <th>Alamine_Aminotransferase</th>\n",
       "      <th>Aspartate_Aminotransferase</th>\n",
       "      <th>Total_Protiens</th>\n",
       "      <th>Albumin</th>\n",
       "      <th>Albumin_and_Globulin_Ratio</th>\n",
       "      <th>Liver_Problem</th>\n",
       "    </tr>\n",
       "  </thead>\n",
       "  <tbody>\n",
       "    <tr>\n",
       "      <th>0</th>\n",
       "      <td>65</td>\n",
       "      <td>Female</td>\n",
       "      <td>0.7</td>\n",
       "      <td>0.1</td>\n",
       "      <td>187</td>\n",
       "      <td>16</td>\n",
       "      <td>18</td>\n",
       "      <td>6.8</td>\n",
       "      <td>3.3</td>\n",
       "      <td>0.90</td>\n",
       "      <td>1</td>\n",
       "    </tr>\n",
       "    <tr>\n",
       "      <th>1</th>\n",
       "      <td>62</td>\n",
       "      <td>Male</td>\n",
       "      <td>10.9</td>\n",
       "      <td>5.5</td>\n",
       "      <td>699</td>\n",
       "      <td>64</td>\n",
       "      <td>100</td>\n",
       "      <td>7.5</td>\n",
       "      <td>3.2</td>\n",
       "      <td>0.74</td>\n",
       "      <td>1</td>\n",
       "    </tr>\n",
       "    <tr>\n",
       "      <th>2</th>\n",
       "      <td>62</td>\n",
       "      <td>Male</td>\n",
       "      <td>7.3</td>\n",
       "      <td>4.1</td>\n",
       "      <td>490</td>\n",
       "      <td>60</td>\n",
       "      <td>68</td>\n",
       "      <td>7.0</td>\n",
       "      <td>3.3</td>\n",
       "      <td>0.89</td>\n",
       "      <td>1</td>\n",
       "    </tr>\n",
       "    <tr>\n",
       "      <th>3</th>\n",
       "      <td>58</td>\n",
       "      <td>Male</td>\n",
       "      <td>1.0</td>\n",
       "      <td>0.4</td>\n",
       "      <td>182</td>\n",
       "      <td>14</td>\n",
       "      <td>20</td>\n",
       "      <td>6.8</td>\n",
       "      <td>3.4</td>\n",
       "      <td>1.00</td>\n",
       "      <td>1</td>\n",
       "    </tr>\n",
       "    <tr>\n",
       "      <th>4</th>\n",
       "      <td>72</td>\n",
       "      <td>Male</td>\n",
       "      <td>3.9</td>\n",
       "      <td>2.0</td>\n",
       "      <td>195</td>\n",
       "      <td>27</td>\n",
       "      <td>59</td>\n",
       "      <td>7.3</td>\n",
       "      <td>2.4</td>\n",
       "      <td>0.40</td>\n",
       "      <td>1</td>\n",
       "    </tr>\n",
       "  </tbody>\n",
       "</table>\n",
       "</div>"
      ],
      "text/plain": [
       "   Age  Gender  Total_Bilirubin  Direct_Bilirubin  Alkaline_Phosphotase  \\\n",
       "0   65  Female              0.7               0.1                   187   \n",
       "1   62    Male             10.9               5.5                   699   \n",
       "2   62    Male              7.3               4.1                   490   \n",
       "3   58    Male              1.0               0.4                   182   \n",
       "4   72    Male              3.9               2.0                   195   \n",
       "\n",
       "   Alamine_Aminotransferase  Aspartate_Aminotransferase  Total_Protiens  \\\n",
       "0                        16                          18             6.8   \n",
       "1                        64                         100             7.5   \n",
       "2                        60                          68             7.0   \n",
       "3                        14                          20             6.8   \n",
       "4                        27                          59             7.3   \n",
       "\n",
       "   Albumin  Albumin_and_Globulin_Ratio  Liver_Problem  \n",
       "0      3.3                        0.90              1  \n",
       "1      3.2                        0.74              1  \n",
       "2      3.3                        0.89              1  \n",
       "3      3.4                        1.00              1  \n",
       "4      2.4                        0.40              1  "
      ]
     },
     "execution_count": 9,
     "metadata": {},
     "output_type": "execute_result"
    }
   ],
   "source": [
    "liver_data.head()"
   ]
  },
  {
   "cell_type": "code",
   "execution_count": 10,
   "id": "55231d68",
   "metadata": {},
   "outputs": [
    {
     "name": "stdout",
     "output_type": "stream",
     "text": [
      "<class 'pandas.core.frame.DataFrame'>\n",
      "RangeIndex: 500 entries, 0 to 499\n",
      "Data columns (total 11 columns):\n",
      " #   Column                      Non-Null Count  Dtype  \n",
      "---  ------                      --------------  -----  \n",
      " 0   Age                         500 non-null    int64  \n",
      " 1   Gender                      500 non-null    object \n",
      " 2   Total_Bilirubin             500 non-null    float64\n",
      " 3   Direct_Bilirubin            500 non-null    float64\n",
      " 4   Alkaline_Phosphotase        500 non-null    int64  \n",
      " 5   Alamine_Aminotransferase    500 non-null    int64  \n",
      " 6   Aspartate_Aminotransferase  500 non-null    int64  \n",
      " 7   Total_Protiens              500 non-null    float64\n",
      " 8   Albumin                     500 non-null    float64\n",
      " 9   Albumin_and_Globulin_Ratio  496 non-null    float64\n",
      " 10  Liver_Problem               500 non-null    int64  \n",
      "dtypes: float64(5), int64(5), object(1)\n",
      "memory usage: 43.1+ KB\n"
     ]
    }
   ],
   "source": [
    "liver_data.info()"
   ]
  },
  {
   "cell_type": "code",
   "execution_count": 11,
   "id": "c3761627",
   "metadata": {},
   "outputs": [
    {
     "data": {
      "text/plain": [
       "(500, 11)"
      ]
     },
     "execution_count": 11,
     "metadata": {},
     "output_type": "execute_result"
    }
   ],
   "source": [
    "liver_data.shape"
   ]
  },
  {
   "cell_type": "code",
   "execution_count": 12,
   "id": "70e0866d",
   "metadata": {},
   "outputs": [
    {
     "data": {
      "text/plain": [
       "1    350\n",
       "2    150\n",
       "Name: Liver_Problem, dtype: int64"
      ]
     },
     "execution_count": 12,
     "metadata": {},
     "output_type": "execute_result"
    }
   ],
   "source": [
    "liver_data[\"Liver_Problem\"].value_counts()"
   ]
  },
  {
   "cell_type": "code",
   "execution_count": 14,
   "id": "f5cb66e6",
   "metadata": {},
   "outputs": [
    {
     "data": {
      "text/plain": [
       "Age                           0\n",
       "Gender                        0\n",
       "Total_Bilirubin               0\n",
       "Direct_Bilirubin              0\n",
       "Alkaline_Phosphotase          0\n",
       "Alamine_Aminotransferase      0\n",
       "Aspartate_Aminotransferase    0\n",
       "Total_Protiens                0\n",
       "Albumin                       0\n",
       "Albumin_and_Globulin_Ratio    4\n",
       "Liver_Problem                 0\n",
       "dtype: int64"
      ]
     },
     "execution_count": 14,
     "metadata": {},
     "output_type": "execute_result"
    }
   ],
   "source": [
    "liver_data.isnull().sum()"
   ]
  },
  {
   "cell_type": "code",
   "execution_count": 16,
   "id": "8a8a5803",
   "metadata": {},
   "outputs": [
    {
     "data": {
      "text/plain": [
       "0.9609072580645165"
      ]
     },
     "execution_count": 16,
     "metadata": {},
     "output_type": "execute_result"
    }
   ],
   "source": [
    "liver_data[\"Albumin_and_Globulin_Ratio\"].mean()"
   ]
  },
  {
   "cell_type": "code",
   "execution_count": 17,
   "id": "ef681360",
   "metadata": {},
   "outputs": [],
   "source": [
    "liver_data.Albumin_and_Globulin_Ratio.fillna(liver_data[\"Albumin_and_Globulin_Ratio\"].mean(),inplace=True)"
   ]
  },
  {
   "cell_type": "code",
   "execution_count": 18,
   "id": "c2502d05",
   "metadata": {},
   "outputs": [
    {
     "data": {
      "text/plain": [
       "Age                           0\n",
       "Gender                        0\n",
       "Total_Bilirubin               0\n",
       "Direct_Bilirubin              0\n",
       "Alkaline_Phosphotase          0\n",
       "Alamine_Aminotransferase      0\n",
       "Aspartate_Aminotransferase    0\n",
       "Total_Protiens                0\n",
       "Albumin                       0\n",
       "Albumin_and_Globulin_Ratio    0\n",
       "Liver_Problem                 0\n",
       "dtype: int64"
      ]
     },
     "execution_count": 18,
     "metadata": {},
     "output_type": "execute_result"
    }
   ],
   "source": [
    "liver_data.isnull().sum()"
   ]
  },
  {
   "cell_type": "code",
   "execution_count": 19,
   "id": "6e01044e",
   "metadata": {},
   "outputs": [],
   "source": [
    "from sklearn.preprocessing import LabelEncoder"
   ]
  },
  {
   "cell_type": "code",
   "execution_count": 20,
   "id": "427c4d32",
   "metadata": {},
   "outputs": [],
   "source": [
    "le=LabelEncoder()"
   ]
  },
  {
   "cell_type": "code",
   "execution_count": 21,
   "id": "93df8b19",
   "metadata": {},
   "outputs": [],
   "source": [
    "liver_data.Gender=le.fit_transform(liver_data.Gender)"
   ]
  },
  {
   "cell_type": "code",
   "execution_count": 22,
   "id": "215f5c5b",
   "metadata": {},
   "outputs": [
    {
     "data": {
      "text/html": [
       "<div>\n",
       "<style scoped>\n",
       "    .dataframe tbody tr th:only-of-type {\n",
       "        vertical-align: middle;\n",
       "    }\n",
       "\n",
       "    .dataframe tbody tr th {\n",
       "        vertical-align: top;\n",
       "    }\n",
       "\n",
       "    .dataframe thead th {\n",
       "        text-align: right;\n",
       "    }\n",
       "</style>\n",
       "<table border=\"1\" class=\"dataframe\">\n",
       "  <thead>\n",
       "    <tr style=\"text-align: right;\">\n",
       "      <th></th>\n",
       "      <th>Age</th>\n",
       "      <th>Gender</th>\n",
       "      <th>Total_Bilirubin</th>\n",
       "      <th>Direct_Bilirubin</th>\n",
       "      <th>Alkaline_Phosphotase</th>\n",
       "      <th>Alamine_Aminotransferase</th>\n",
       "      <th>Aspartate_Aminotransferase</th>\n",
       "      <th>Total_Protiens</th>\n",
       "      <th>Albumin</th>\n",
       "      <th>Albumin_and_Globulin_Ratio</th>\n",
       "      <th>Liver_Problem</th>\n",
       "    </tr>\n",
       "  </thead>\n",
       "  <tbody>\n",
       "    <tr>\n",
       "      <th>0</th>\n",
       "      <td>65</td>\n",
       "      <td>0</td>\n",
       "      <td>0.7</td>\n",
       "      <td>0.1</td>\n",
       "      <td>187</td>\n",
       "      <td>16</td>\n",
       "      <td>18</td>\n",
       "      <td>6.8</td>\n",
       "      <td>3.3</td>\n",
       "      <td>0.90</td>\n",
       "      <td>1</td>\n",
       "    </tr>\n",
       "    <tr>\n",
       "      <th>1</th>\n",
       "      <td>62</td>\n",
       "      <td>1</td>\n",
       "      <td>10.9</td>\n",
       "      <td>5.5</td>\n",
       "      <td>699</td>\n",
       "      <td>64</td>\n",
       "      <td>100</td>\n",
       "      <td>7.5</td>\n",
       "      <td>3.2</td>\n",
       "      <td>0.74</td>\n",
       "      <td>1</td>\n",
       "    </tr>\n",
       "    <tr>\n",
       "      <th>2</th>\n",
       "      <td>62</td>\n",
       "      <td>1</td>\n",
       "      <td>7.3</td>\n",
       "      <td>4.1</td>\n",
       "      <td>490</td>\n",
       "      <td>60</td>\n",
       "      <td>68</td>\n",
       "      <td>7.0</td>\n",
       "      <td>3.3</td>\n",
       "      <td>0.89</td>\n",
       "      <td>1</td>\n",
       "    </tr>\n",
       "    <tr>\n",
       "      <th>3</th>\n",
       "      <td>58</td>\n",
       "      <td>1</td>\n",
       "      <td>1.0</td>\n",
       "      <td>0.4</td>\n",
       "      <td>182</td>\n",
       "      <td>14</td>\n",
       "      <td>20</td>\n",
       "      <td>6.8</td>\n",
       "      <td>3.4</td>\n",
       "      <td>1.00</td>\n",
       "      <td>1</td>\n",
       "    </tr>\n",
       "    <tr>\n",
       "      <th>4</th>\n",
       "      <td>72</td>\n",
       "      <td>1</td>\n",
       "      <td>3.9</td>\n",
       "      <td>2.0</td>\n",
       "      <td>195</td>\n",
       "      <td>27</td>\n",
       "      <td>59</td>\n",
       "      <td>7.3</td>\n",
       "      <td>2.4</td>\n",
       "      <td>0.40</td>\n",
       "      <td>1</td>\n",
       "    </tr>\n",
       "  </tbody>\n",
       "</table>\n",
       "</div>"
      ],
      "text/plain": [
       "   Age  Gender  Total_Bilirubin  Direct_Bilirubin  Alkaline_Phosphotase  \\\n",
       "0   65       0              0.7               0.1                   187   \n",
       "1   62       1             10.9               5.5                   699   \n",
       "2   62       1              7.3               4.1                   490   \n",
       "3   58       1              1.0               0.4                   182   \n",
       "4   72       1              3.9               2.0                   195   \n",
       "\n",
       "   Alamine_Aminotransferase  Aspartate_Aminotransferase  Total_Protiens  \\\n",
       "0                        16                          18             6.8   \n",
       "1                        64                         100             7.5   \n",
       "2                        60                          68             7.0   \n",
       "3                        14                          20             6.8   \n",
       "4                        27                          59             7.3   \n",
       "\n",
       "   Albumin  Albumin_and_Globulin_Ratio  Liver_Problem  \n",
       "0      3.3                        0.90              1  \n",
       "1      3.2                        0.74              1  \n",
       "2      3.3                        0.89              1  \n",
       "3      3.4                        1.00              1  \n",
       "4      2.4                        0.40              1  "
      ]
     },
     "execution_count": 22,
     "metadata": {},
     "output_type": "execute_result"
    }
   ],
   "source": [
    "liver_data.head()"
   ]
  },
  {
   "cell_type": "markdown",
   "id": "8daf0c82",
   "metadata": {},
   "source": [
    "### Separating input and target variables"
   ]
  },
  {
   "cell_type": "code",
   "execution_count": 31,
   "id": "68640d98",
   "metadata": {},
   "outputs": [],
   "source": [
    "x=liver_data.drop(\"Liver_Problem\", axis=1)\n",
    "y=liver_data[\"Liver_Problem\"]"
   ]
  },
  {
   "cell_type": "markdown",
   "id": "e2a82a41",
   "metadata": {},
   "source": [
    "### Splitting Data into Train and Test"
   ]
  },
  {
   "cell_type": "code",
   "execution_count": 36,
   "id": "dd4a85ba",
   "metadata": {},
   "outputs": [],
   "source": [
    "from sklearn.model_selection import train_test_split"
   ]
  },
  {
   "cell_type": "code",
   "execution_count": 38,
   "id": "fb09fc13",
   "metadata": {},
   "outputs": [],
   "source": [
    "x_train,x_test,y_train,y_test=train_test_split(x,y, test_size=0.2,random_state=101)"
   ]
  },
  {
   "cell_type": "markdown",
   "id": "a7f63c60",
   "metadata": {},
   "source": [
    "### Building Logistic Regression"
   ]
  },
  {
   "cell_type": "code",
   "execution_count": 39,
   "id": "4b1b0a84",
   "metadata": {},
   "outputs": [],
   "source": [
    "from sklearn.linear_model import LogisticRegression"
   ]
  },
  {
   "cell_type": "code",
   "execution_count": 40,
   "id": "c44e6143",
   "metadata": {},
   "outputs": [],
   "source": [
    "model=LogisticRegression()"
   ]
  },
  {
   "cell_type": "code",
   "execution_count": 42,
   "id": "05c9cb87",
   "metadata": {},
   "outputs": [
    {
     "data": {
      "text/plain": [
       "LogisticRegression()"
      ]
     },
     "execution_count": 42,
     "metadata": {},
     "output_type": "execute_result"
    }
   ],
   "source": [
    "model.fit(x_train, y_train)"
   ]
  },
  {
   "cell_type": "code",
   "execution_count": 47,
   "id": "9554b947",
   "metadata": {},
   "outputs": [],
   "source": [
    "pred=model.predict(x_test)"
   ]
  },
  {
   "cell_type": "code",
   "execution_count": 82,
   "id": "74655f4c",
   "metadata": {},
   "outputs": [],
   "source": [
    "from sklearn.metrics import confusion_matrix\n",
    "\n",
    "import matplotlib.pyplot as plt\n",
    "%matplotlib inline"
   ]
  },
  {
   "cell_type": "code",
   "execution_count": 84,
   "id": "66cfc9dc",
   "metadata": {},
   "outputs": [
    {
     "name": "stdout",
     "output_type": "stream",
     "text": [
      "true positivr= 5\n",
      "true negative= 60\n",
      "false positive= 6\n",
      "false negative= 29\n"
     ]
    }
   ],
   "source": [
    "tn,fp,fn,tp=confusion_matrix(y_test,pred).ravel()\n",
    "print(\"true positivr=\",tp)\n",
    "print(\"true negative=\",tn)\n",
    "print(\"false positive=\",fp)\n",
    "print(\"false negative=\",fn)\n"
   ]
  },
  {
   "cell_type": "code",
   "execution_count": 86,
   "id": "d5db34c2",
   "metadata": {},
   "outputs": [],
   "source": [
    "from sklearn.metrics import accuracy_score,f1_score,precision_score"
   ]
  },
  {
   "cell_type": "code",
   "execution_count": 87,
   "id": "af0c5da8",
   "metadata": {},
   "outputs": [
    {
     "name": "stdout",
     "output_type": "stream",
     "text": [
      "accuracy_score= 0.65\n",
      "precision_score= 0.6741573033707865\n",
      "f1_score= 0.7741935483870969\n"
     ]
    }
   ],
   "source": [
    "print(\"accuracy_score=\",accuracy_score(y_test,pred))\n",
    "print(\"precision_score=\",precision_score(y_test,pred))\n",
    "print(\"f1_score=\",f1_score(y_test,pred))"
   ]
  },
  {
   "cell_type": "code",
   "execution_count": 88,
   "id": "34c7c189",
   "metadata": {},
   "outputs": [],
   "source": [
    "test_new=pd.read_csv(\"indian_liver_patient_new_testdataset.csv\")"
   ]
  },
  {
   "cell_type": "code",
   "execution_count": 90,
   "id": "9db89955",
   "metadata": {},
   "outputs": [
    {
     "data": {
      "text/html": [
       "<div>\n",
       "<style scoped>\n",
       "    .dataframe tbody tr th:only-of-type {\n",
       "        vertical-align: middle;\n",
       "    }\n",
       "\n",
       "    .dataframe tbody tr th {\n",
       "        vertical-align: top;\n",
       "    }\n",
       "\n",
       "    .dataframe thead th {\n",
       "        text-align: right;\n",
       "    }\n",
       "</style>\n",
       "<table border=\"1\" class=\"dataframe\">\n",
       "  <thead>\n",
       "    <tr style=\"text-align: right;\">\n",
       "      <th></th>\n",
       "      <th>Age</th>\n",
       "      <th>Gender</th>\n",
       "      <th>Total_Bilirubin</th>\n",
       "      <th>Direct_Bilirubin</th>\n",
       "      <th>Alkaline_Phosphotase</th>\n",
       "      <th>Alamine_Aminotransferase</th>\n",
       "      <th>Aspartate_Aminotransferase</th>\n",
       "      <th>Total_Protiens</th>\n",
       "      <th>Albumin</th>\n",
       "      <th>Albumin_and_Globulin_Ratio</th>\n",
       "    </tr>\n",
       "  </thead>\n",
       "  <tbody>\n",
       "    <tr>\n",
       "      <th>0</th>\n",
       "      <td>36</td>\n",
       "      <td>Male</td>\n",
       "      <td>2.8</td>\n",
       "      <td>1.5</td>\n",
       "      <td>305</td>\n",
       "      <td>28</td>\n",
       "      <td>76</td>\n",
       "      <td>5.9</td>\n",
       "      <td>2.5</td>\n",
       "      <td>0.7</td>\n",
       "    </tr>\n",
       "    <tr>\n",
       "      <th>1</th>\n",
       "      <td>42</td>\n",
       "      <td>Male</td>\n",
       "      <td>0.8</td>\n",
       "      <td>0.2</td>\n",
       "      <td>127</td>\n",
       "      <td>29</td>\n",
       "      <td>30</td>\n",
       "      <td>4.9</td>\n",
       "      <td>2.7</td>\n",
       "      <td>1.2</td>\n",
       "    </tr>\n",
       "    <tr>\n",
       "      <th>2</th>\n",
       "      <td>53</td>\n",
       "      <td>Male</td>\n",
       "      <td>19.8</td>\n",
       "      <td>10.4</td>\n",
       "      <td>238</td>\n",
       "      <td>39</td>\n",
       "      <td>221</td>\n",
       "      <td>8.1</td>\n",
       "      <td>2.5</td>\n",
       "      <td>0.4</td>\n",
       "    </tr>\n",
       "    <tr>\n",
       "      <th>3</th>\n",
       "      <td>32</td>\n",
       "      <td>Male</td>\n",
       "      <td>30.5</td>\n",
       "      <td>17.1</td>\n",
       "      <td>218</td>\n",
       "      <td>39</td>\n",
       "      <td>79</td>\n",
       "      <td>5.5</td>\n",
       "      <td>2.7</td>\n",
       "      <td>0.9</td>\n",
       "    </tr>\n",
       "    <tr>\n",
       "      <th>4</th>\n",
       "      <td>32</td>\n",
       "      <td>Male</td>\n",
       "      <td>32.6</td>\n",
       "      <td>14.1</td>\n",
       "      <td>219</td>\n",
       "      <td>95</td>\n",
       "      <td>235</td>\n",
       "      <td>5.8</td>\n",
       "      <td>3.1</td>\n",
       "      <td>1.1</td>\n",
       "    </tr>\n",
       "  </tbody>\n",
       "</table>\n",
       "</div>"
      ],
      "text/plain": [
       "   Age Gender  Total_Bilirubin  Direct_Bilirubin  Alkaline_Phosphotase  \\\n",
       "0   36   Male              2.8               1.5                   305   \n",
       "1   42   Male              0.8               0.2                   127   \n",
       "2   53   Male             19.8              10.4                   238   \n",
       "3   32   Male             30.5              17.1                   218   \n",
       "4   32   Male             32.6              14.1                   219   \n",
       "\n",
       "   Alamine_Aminotransferase  Aspartate_Aminotransferase  Total_Protiens  \\\n",
       "0                        28                          76             5.9   \n",
       "1                        29                          30             4.9   \n",
       "2                        39                         221             8.1   \n",
       "3                        39                          79             5.5   \n",
       "4                        95                         235             5.8   \n",
       "\n",
       "   Albumin  Albumin_and_Globulin_Ratio  \n",
       "0      2.5                         0.7  \n",
       "1      2.7                         1.2  \n",
       "2      2.5                         0.4  \n",
       "3      2.7                         0.9  \n",
       "4      3.1                         1.1  "
      ]
     },
     "execution_count": 90,
     "metadata": {},
     "output_type": "execute_result"
    }
   ],
   "source": [
    "test_new.head()"
   ]
  },
  {
   "cell_type": "code",
   "execution_count": 96,
   "id": "0bec0806",
   "metadata": {},
   "outputs": [
    {
     "data": {
      "text/plain": [
       "array(['Male', 'Female'], dtype=object)"
      ]
     },
     "execution_count": 96,
     "metadata": {},
     "output_type": "execute_result"
    }
   ],
   "source": [
    "test_new[\"Gender\"].unique()"
   ]
  },
  {
   "cell_type": "code",
   "execution_count": 91,
   "id": "1b016b2c",
   "metadata": {},
   "outputs": [],
   "source": [
    "le=LabelEncoder()"
   ]
  },
  {
   "cell_type": "code",
   "execution_count": 98,
   "id": "7324895f",
   "metadata": {},
   "outputs": [],
   "source": [
    "test_new.Gender=le.fit_transform(test_new.Gender)"
   ]
  },
  {
   "cell_type": "code",
   "execution_count": 99,
   "id": "f463a377",
   "metadata": {},
   "outputs": [
    {
     "data": {
      "text/html": [
       "<div>\n",
       "<style scoped>\n",
       "    .dataframe tbody tr th:only-of-type {\n",
       "        vertical-align: middle;\n",
       "    }\n",
       "\n",
       "    .dataframe tbody tr th {\n",
       "        vertical-align: top;\n",
       "    }\n",
       "\n",
       "    .dataframe thead th {\n",
       "        text-align: right;\n",
       "    }\n",
       "</style>\n",
       "<table border=\"1\" class=\"dataframe\">\n",
       "  <thead>\n",
       "    <tr style=\"text-align: right;\">\n",
       "      <th></th>\n",
       "      <th>Age</th>\n",
       "      <th>Gender</th>\n",
       "      <th>Total_Bilirubin</th>\n",
       "      <th>Direct_Bilirubin</th>\n",
       "      <th>Alkaline_Phosphotase</th>\n",
       "      <th>Alamine_Aminotransferase</th>\n",
       "      <th>Aspartate_Aminotransferase</th>\n",
       "      <th>Total_Protiens</th>\n",
       "      <th>Albumin</th>\n",
       "      <th>Albumin_and_Globulin_Ratio</th>\n",
       "    </tr>\n",
       "  </thead>\n",
       "  <tbody>\n",
       "    <tr>\n",
       "      <th>0</th>\n",
       "      <td>36</td>\n",
       "      <td>1</td>\n",
       "      <td>2.8</td>\n",
       "      <td>1.5</td>\n",
       "      <td>305</td>\n",
       "      <td>28</td>\n",
       "      <td>76</td>\n",
       "      <td>5.9</td>\n",
       "      <td>2.5</td>\n",
       "      <td>0.7</td>\n",
       "    </tr>\n",
       "    <tr>\n",
       "      <th>1</th>\n",
       "      <td>42</td>\n",
       "      <td>1</td>\n",
       "      <td>0.8</td>\n",
       "      <td>0.2</td>\n",
       "      <td>127</td>\n",
       "      <td>29</td>\n",
       "      <td>30</td>\n",
       "      <td>4.9</td>\n",
       "      <td>2.7</td>\n",
       "      <td>1.2</td>\n",
       "    </tr>\n",
       "    <tr>\n",
       "      <th>2</th>\n",
       "      <td>53</td>\n",
       "      <td>1</td>\n",
       "      <td>19.8</td>\n",
       "      <td>10.4</td>\n",
       "      <td>238</td>\n",
       "      <td>39</td>\n",
       "      <td>221</td>\n",
       "      <td>8.1</td>\n",
       "      <td>2.5</td>\n",
       "      <td>0.4</td>\n",
       "    </tr>\n",
       "    <tr>\n",
       "      <th>3</th>\n",
       "      <td>32</td>\n",
       "      <td>1</td>\n",
       "      <td>30.5</td>\n",
       "      <td>17.1</td>\n",
       "      <td>218</td>\n",
       "      <td>39</td>\n",
       "      <td>79</td>\n",
       "      <td>5.5</td>\n",
       "      <td>2.7</td>\n",
       "      <td>0.9</td>\n",
       "    </tr>\n",
       "    <tr>\n",
       "      <th>4</th>\n",
       "      <td>32</td>\n",
       "      <td>1</td>\n",
       "      <td>32.6</td>\n",
       "      <td>14.1</td>\n",
       "      <td>219</td>\n",
       "      <td>95</td>\n",
       "      <td>235</td>\n",
       "      <td>5.8</td>\n",
       "      <td>3.1</td>\n",
       "      <td>1.1</td>\n",
       "    </tr>\n",
       "  </tbody>\n",
       "</table>\n",
       "</div>"
      ],
      "text/plain": [
       "   Age  Gender  Total_Bilirubin  Direct_Bilirubin  Alkaline_Phosphotase  \\\n",
       "0   36       1              2.8               1.5                   305   \n",
       "1   42       1              0.8               0.2                   127   \n",
       "2   53       1             19.8              10.4                   238   \n",
       "3   32       1             30.5              17.1                   218   \n",
       "4   32       1             32.6              14.1                   219   \n",
       "\n",
       "   Alamine_Aminotransferase  Aspartate_Aminotransferase  Total_Protiens  \\\n",
       "0                        28                          76             5.9   \n",
       "1                        29                          30             4.9   \n",
       "2                        39                         221             8.1   \n",
       "3                        39                          79             5.5   \n",
       "4                        95                         235             5.8   \n",
       "\n",
       "   Albumin  Albumin_and_Globulin_Ratio  \n",
       "0      2.5                         0.7  \n",
       "1      2.7                         1.2  \n",
       "2      2.5                         0.4  \n",
       "3      2.7                         0.9  \n",
       "4      3.1                         1.1  "
      ]
     },
     "execution_count": 99,
     "metadata": {},
     "output_type": "execute_result"
    }
   ],
   "source": [
    "test_new.head()"
   ]
  },
  {
   "cell_type": "code",
   "execution_count": 100,
   "id": "f8f92ffd",
   "metadata": {},
   "outputs": [],
   "source": [
    "liver_probelm=model.predict(test_new)"
   ]
  },
  {
   "cell_type": "code",
   "execution_count": 105,
   "id": "4fcdd10d",
   "metadata": {},
   "outputs": [],
   "source": [
    "res=pd.DataFrame(liver_probelm)\n",
    "res.index=test_new.index\n",
    "res.columns=[\"liver_probelm\"]\n",
    "res.to_csv(\"prediction_results_liver_probelm.csv\")"
   ]
  },
  {
   "cell_type": "code",
   "execution_count": 107,
   "id": "5a23516c",
   "metadata": {},
   "outputs": [],
   "source": [
    "data=pd.read_csv(\"prediction_results_liver_probelm.csv\")"
   ]
  },
  {
   "cell_type": "code",
   "execution_count": 109,
   "id": "c459d0b5",
   "metadata": {},
   "outputs": [
    {
     "data": {
      "text/html": [
       "<div>\n",
       "<style scoped>\n",
       "    .dataframe tbody tr th:only-of-type {\n",
       "        vertical-align: middle;\n",
       "    }\n",
       "\n",
       "    .dataframe tbody tr th {\n",
       "        vertical-align: top;\n",
       "    }\n",
       "\n",
       "    .dataframe thead th {\n",
       "        text-align: right;\n",
       "    }\n",
       "</style>\n",
       "<table border=\"1\" class=\"dataframe\">\n",
       "  <thead>\n",
       "    <tr style=\"text-align: right;\">\n",
       "      <th></th>\n",
       "      <th>Unnamed: 0</th>\n",
       "      <th>liver_probelm</th>\n",
       "    </tr>\n",
       "  </thead>\n",
       "  <tbody>\n",
       "    <tr>\n",
       "      <th>0</th>\n",
       "      <td>0</td>\n",
       "      <td>1</td>\n",
       "    </tr>\n",
       "    <tr>\n",
       "      <th>1</th>\n",
       "      <td>1</td>\n",
       "      <td>1</td>\n",
       "    </tr>\n",
       "    <tr>\n",
       "      <th>2</th>\n",
       "      <td>2</td>\n",
       "      <td>1</td>\n",
       "    </tr>\n",
       "    <tr>\n",
       "      <th>3</th>\n",
       "      <td>3</td>\n",
       "      <td>1</td>\n",
       "    </tr>\n",
       "    <tr>\n",
       "      <th>4</th>\n",
       "      <td>4</td>\n",
       "      <td>1</td>\n",
       "    </tr>\n",
       "    <tr>\n",
       "      <th>...</th>\n",
       "      <td>...</td>\n",
       "      <td>...</td>\n",
       "    </tr>\n",
       "    <tr>\n",
       "      <th>77</th>\n",
       "      <td>77</td>\n",
       "      <td>1</td>\n",
       "    </tr>\n",
       "    <tr>\n",
       "      <th>78</th>\n",
       "      <td>78</td>\n",
       "      <td>1</td>\n",
       "    </tr>\n",
       "    <tr>\n",
       "      <th>79</th>\n",
       "      <td>79</td>\n",
       "      <td>1</td>\n",
       "    </tr>\n",
       "    <tr>\n",
       "      <th>80</th>\n",
       "      <td>80</td>\n",
       "      <td>1</td>\n",
       "    </tr>\n",
       "    <tr>\n",
       "      <th>81</th>\n",
       "      <td>81</td>\n",
       "      <td>2</td>\n",
       "    </tr>\n",
       "  </tbody>\n",
       "</table>\n",
       "<p>82 rows × 2 columns</p>\n",
       "</div>"
      ],
      "text/plain": [
       "    Unnamed: 0  liver_probelm\n",
       "0            0              1\n",
       "1            1              1\n",
       "2            2              1\n",
       "3            3              1\n",
       "4            4              1\n",
       "..         ...            ...\n",
       "77          77              1\n",
       "78          78              1\n",
       "79          79              1\n",
       "80          80              1\n",
       "81          81              2\n",
       "\n",
       "[82 rows x 2 columns]"
      ]
     },
     "execution_count": 109,
     "metadata": {},
     "output_type": "execute_result"
    }
   ],
   "source": [
    "data\n"
   ]
  },
  {
   "cell_type": "code",
   "execution_count": 110,
   "id": "e49f3e6e",
   "metadata": {},
   "outputs": [
    {
     "name": "stdout",
     "output_type": "stream",
     "text": [
      "<class 'pandas.core.frame.DataFrame'>\n",
      "RangeIndex: 82 entries, 0 to 81\n",
      "Data columns (total 2 columns):\n",
      " #   Column         Non-Null Count  Dtype\n",
      "---  ------         --------------  -----\n",
      " 0   Unnamed: 0     82 non-null     int64\n",
      " 1   liver_probelm  82 non-null     int64\n",
      "dtypes: int64(2)\n",
      "memory usage: 1.4 KB\n"
     ]
    }
   ],
   "source": [
    "data.info()"
   ]
  },
  {
   "cell_type": "code",
   "execution_count": null,
   "id": "e261d9a9",
   "metadata": {},
   "outputs": [],
   "source": []
  }
 ],
 "metadata": {
  "kernelspec": {
   "display_name": "Python 3 (ipykernel)",
   "language": "python",
   "name": "python3"
  },
  "language_info": {
   "codemirror_mode": {
    "name": "ipython",
    "version": 3
   },
   "file_extension": ".py",
   "mimetype": "text/x-python",
   "name": "python",
   "nbconvert_exporter": "python",
   "pygments_lexer": "ipython3",
   "version": "3.9.12"
  }
 },
 "nbformat": 4,
 "nbformat_minor": 5
}
